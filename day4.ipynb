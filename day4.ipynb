{
  "nbformat": 4,
  "nbformat_minor": 0,
  "metadata": {
    "colab": {
      "provenance": [],
      "authorship_tag": "ABX9TyMdJdQFsjtCqIM7K4rSfnWO",
      "include_colab_link": true
    },
    "kernelspec": {
      "name": "python3",
      "display_name": "Python 3"
    },
    "language_info": {
      "name": "python"
    }
  },
  "cells": [
    {
      "cell_type": "markdown",
      "metadata": {
        "id": "view-in-github",
        "colab_type": "text"
      },
      "source": [
        "<a href=\"https://colab.research.google.com/github/MYTHILY7/Data-Analysis-and-Visualization-/blob/main/day4.ipynb\" target=\"_parent\"><img src=\"https://colab.research.google.com/assets/colab-badge.svg\" alt=\"Open In Colab\"/></a>"
      ]
    },
    {
      "cell_type": "markdown",
      "source": [
        "UNDERSTANDING NUMERICAL COMPUTING USING PYTHON - NUMPY"
      ],
      "metadata": {
        "id": "q1u64nL5n9lH"
      }
    },
    {
      "cell_type": "code",
      "execution_count": null,
      "metadata": {
        "colab": {
          "base_uri": "https://localhost:8080/"
        },
        "id": "KA55N1nolglt",
        "outputId": "8a638fd9-62c6-497c-f304-529e7baf9598"
      },
      "outputs": [
        {
          "output_type": "stream",
          "name": "stdout",
          "text": [
            "(2, 4)\n"
          ]
        }
      ],
      "source": [
        "import numpy\n",
        "x=numpy.array([[1,2,3,4],[5,6,7,9]])\n",
        "print(x.shape)"
      ]
    },
    {
      "cell_type": "code",
      "source": [
        "import numpy as np\n",
        "x=np.array([[1,2,3,4],[5,6,7,9]])\n",
        "print(x.shape)\n",
        "x.shape=(4,2)\n",
        "print(x)"
      ],
      "metadata": {
        "colab": {
          "base_uri": "https://localhost:8080/"
        },
        "id": "t6C8xAeOq56k",
        "outputId": "8193a8b6-9aa6-4dd6-8ab8-af4139537547"
      },
      "execution_count": null,
      "outputs": [
        {
          "output_type": "stream",
          "name": "stdout",
          "text": [
            "(2, 4)\n",
            "[[1 2]\n",
            " [3 4]\n",
            " [5 6]\n",
            " [7 9]]\n"
          ]
        }
      ]
    },
    {
      "cell_type": "code",
      "source": [
        "import numpy as np\n",
        "\n",
        "user_input = input(\"Enter the elements of the array separated by space: \")\n",
        "array_list = [float(i) for i in user_input.split()]\n",
        "\n",
        "user_array = np.array(array_list)\n",
        "\n",
        "size = user_array.size\n",
        "\n",
        "print(f\"The size of the array is: {size}\")\n"
      ],
      "metadata": {
        "colab": {
          "base_uri": "https://localhost:8080/"
        },
        "id": "s27VRp2OrVGT",
        "outputId": "49311980-cab1-463c-93c0-e9df31c68f57"
      },
      "execution_count": null,
      "outputs": [
        {
          "output_type": "stream",
          "name": "stdout",
          "text": [
            "Enter the elements of the array separated by space: 5 7 8 3\n",
            "The size of the array is: 4\n"
          ]
        }
      ]
    },
    {
      "cell_type": "code",
      "source": [
        "arr = np.array([1, 2, 3, 4, 5, 6, 7, 8, 9])\n",
        "\n",
        "mask = arr > 5\n",
        "print(mask)\n",
        "\n",
        "selected_values = arr[mask]\n",
        "print(selected_values)\n",
        "\n",
        "mask = (arr > 5) & (arr < 9)\n",
        "print(arr[mask])\n",
        "\n",
        "mask = (arr < 3) | (arr > 7)\n",
        "print(arr[mask])"
      ],
      "metadata": {
        "colab": {
          "base_uri": "https://localhost:8080/"
        },
        "id": "qBaT0QSIyAc0",
        "outputId": "cc9bc0c9-92d3-4acd-8671-3dada4264930"
      },
      "execution_count": null,
      "outputs": [
        {
          "output_type": "stream",
          "name": "stdout",
          "text": [
            "[False False False False False  True  True  True  True]\n",
            "[6 7 8 9]\n",
            "[6 7 8]\n",
            "[1 2 8 9]\n"
          ]
        }
      ]
    },
    {
      "cell_type": "code",
      "source": [
        "y=x[2]\n",
        "print(y)"
      ],
      "metadata": {
        "colab": {
          "base_uri": "https://localhost:8080/"
        },
        "id": "PE1h1hKXI25L",
        "outputId": "d600c843-6632-4735-80c3-3b753597ffe3"
      },
      "execution_count": null,
      "outputs": [
        {
          "output_type": "stream",
          "name": "stdout",
          "text": [
            "[5 6]\n"
          ]
        }
      ]
    },
    {
      "cell_type": "markdown",
      "source": [
        "SLICING"
      ],
      "metadata": {
        "id": "nmqykw9RKXab"
      }
    },
    {
      "cell_type": "code",
      "source": [
        "import numpy as np\n",
        "x=np.arange(20)\n",
        "y=slice(3,9,2)\n",
        "print(x[y])"
      ],
      "metadata": {
        "colab": {
          "base_uri": "https://localhost:8080/"
        },
        "id": "Barr8qlUKZV6",
        "outputId": "8c4232f7-29f0-44a0-a320-01673c35a241"
      },
      "execution_count": null,
      "outputs": [
        {
          "output_type": "stream",
          "name": "stdout",
          "text": [
            "[3 5 7]\n"
          ]
        }
      ]
    },
    {
      "cell_type": "markdown",
      "source": [
        "INTEGER INDEXING"
      ],
      "metadata": {
        "id": "Zd2zEk7kJOaq"
      }
    },
    {
      "cell_type": "code",
      "source": [
        "x=np.array([[1,2],[3,4],[5,6]])\n",
        "y=x[[0,1,2],[0,1,0]]\n",
        "print (y)"
      ],
      "metadata": {
        "colab": {
          "base_uri": "https://localhost:8080/"
        },
        "id": "3hdE11TLJIi5",
        "outputId": "8ab73c21-31a9-42a4-c011-197dd0bddb4d"
      },
      "execution_count": null,
      "outputs": [
        {
          "output_type": "stream",
          "name": "stdout",
          "text": [
            "[1 4 5]\n"
          ]
        }
      ]
    },
    {
      "cell_type": "markdown",
      "source": [
        "TRIGNOMETRIC"
      ],
      "metadata": {
        "id": "OHZZ20qcS649"
      }
    },
    {
      "cell_type": "code",
      "source": [
        "import numpy as np\n",
        "\n",
        "arr = np.array([90, 180, 270, 360])\n",
        "\n",
        "x = np.deg2rad(arr)\n",
        "\n",
        "print(x)"
      ],
      "metadata": {
        "colab": {
          "base_uri": "https://localhost:8080/"
        },
        "id": "b3SL0VrBMrtK",
        "outputId": "0b532090-f73a-4a59-9fcf-d27024aa3acd"
      },
      "execution_count": null,
      "outputs": [
        {
          "output_type": "stream",
          "name": "stdout",
          "text": [
            "[1.57079633 3.14159265 4.71238898 6.28318531]\n"
          ]
        }
      ]
    },
    {
      "cell_type": "code",
      "source": [
        "arr = np.array([1, 2, 3, 4, 5, 6, 7])\n",
        "print('Sine of angles:')\n",
        "print(np.sin(x*np.pi/180))\n",
        "print('\\n')\n",
        "print('cosine values')\n",
        "print(np.cos(x*np.pi/180))\n",
        "print('\\n')\n",
        "print('Tangent values')\n",
        "print(np.tan(x*np.pi/180))"
      ],
      "metadata": {
        "colab": {
          "base_uri": "https://localhost:8080/"
        },
        "id": "xx0o0tiJTI1r",
        "outputId": "33a6760e-c994-463d-d7f8-caca69945d62"
      },
      "execution_count": null,
      "outputs": [
        {
          "output_type": "stream",
          "name": "stdout",
          "text": [
            "Sine of angles:\n",
            "[0.02741213 0.05480367 0.08215401 0.10944261]\n",
            "\n",
            "\n",
            "cosine values\n",
            "[0.99962422 0.99849715 0.99661965 0.99399312]\n",
            "\n",
            "\n",
            "Tangent values\n",
            "[0.02742244 0.05488615 0.08243266 0.11010399]\n"
          ]
        }
      ]
    },
    {
      "cell_type": "code",
      "source": [
        "import numpy as np\n",
        "\n",
        "arr = np.array([1, 2, 3, 4])\n",
        "\n",
        "print(arr[2] + arr[3])"
      ],
      "metadata": {
        "id": "CvTDifKMTZT0",
        "colab": {
          "base_uri": "https://localhost:8080/"
        },
        "outputId": "73d736d4-0508-48f5-88ee-d2c13bf5e42b"
      },
      "execution_count": null,
      "outputs": [
        {
          "output_type": "stream",
          "name": "stdout",
          "text": [
            "7\n"
          ]
        }
      ]
    },
    {
      "cell_type": "code",
      "source": [
        "import numpy as np\n",
        "\n",
        "arr = np.array([1, 2, 3, 4, 5, 6, 7])\n",
        "\n",
        "print(arr[4:])"
      ],
      "metadata": {
        "colab": {
          "base_uri": "https://localhost:8080/"
        },
        "id": "VK-M94kVbEbE",
        "outputId": "a92aa61c-2a4a-425e-e8bf-117b28fa24eb"
      },
      "execution_count": null,
      "outputs": [
        {
          "output_type": "stream",
          "name": "stdout",
          "text": [
            "[5 6 7]\n"
          ]
        }
      ]
    },
    {
      "cell_type": "markdown",
      "source": [
        "ARITHMETIC OPERATIONS"
      ],
      "metadata": {
        "id": "BM8xZkWZzhHJ"
      }
    },
    {
      "cell_type": "code",
      "source": [
        "import numpy as np\n",
        "x=np.arange(9,dtype=np.float).reshape(3,3)\n",
        "print('First array:')\n",
        "print(x)\n",
        "print('\\n')\n",
        "print('Second array:')\n",
        "y=np.array([20,20,20])\n",
        "print(y)\n",
        "z=np.add(x,y)\n",
        "print(z)\n",
        "print('\\n')\n",
        "print(np.add(x,y))\n",
        "print('\\n')\n",
        "print(np.subtract(x,y))\n",
        "print('\\n')\n",
        "print(np.multiply(x,y))\n",
        "print('\\n')\n",
        "print(np.divide(x,y))"
      ],
      "metadata": {
        "colab": {
          "base_uri": "https://localhost:8080/"
        },
        "id": "G2BIwCwlyyAZ",
        "outputId": "58297017-1816-4d81-91d4-8fc008189da4"
      },
      "execution_count": null,
      "outputs": [
        {
          "output_type": "stream",
          "name": "stdout",
          "text": [
            "First array:\n",
            "[[0. 1. 2.]\n",
            " [3. 4. 5.]\n",
            " [6. 7. 8.]]\n",
            "\n",
            "\n",
            "Second array:\n",
            "[20 20 20]\n",
            "[[20. 21. 22.]\n",
            " [23. 24. 25.]\n",
            " [26. 27. 28.]]\n",
            "\n",
            "\n",
            "[[20. 21. 22.]\n",
            " [23. 24. 25.]\n",
            " [26. 27. 28.]]\n",
            "\n",
            "\n",
            "[[-20. -19. -18.]\n",
            " [-17. -16. -15.]\n",
            " [-14. -13. -12.]]\n",
            "\n",
            "\n",
            "[[  0.  20.  40.]\n",
            " [ 60.  80. 100.]\n",
            " [120. 140. 160.]]\n",
            "\n",
            "\n",
            "[[0.   0.05 0.1 ]\n",
            " [0.15 0.2  0.25]\n",
            " [0.3  0.35 0.4 ]]\n"
          ]
        },
        {
          "output_type": "stream",
          "name": "stderr",
          "text": [
            "<ipython-input-13-79172d5ed2a5>:2: DeprecationWarning: `np.float` is a deprecated alias for the builtin `float`. To silence this warning, use `float` by itself. Doing this will not modify any behavior and is safe. If you specifically wanted the numpy scalar type, use `np.float64` here.\n",
            "Deprecated in NumPy 1.20; for more details and guidance: https://numpy.org/devdocs/release/1.20.0-notes.html#deprecations\n",
            "  x=np.arange(9,dtype=np.float).reshape(3,3)\n"
          ]
        }
      ]
    },
    {
      "cell_type": "code",
      "source": [],
      "metadata": {
        "id": "gcFlThv7zZu6"
      },
      "execution_count": null,
      "outputs": []
    }
  ]
}