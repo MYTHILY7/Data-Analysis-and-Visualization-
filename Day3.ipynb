{
  "nbformat": 4,
  "nbformat_minor": 0,
  "metadata": {
    "colab": {
      "provenance": [],
      "authorship_tag": "ABX9TyNU6+hdsSKHRbW0ygaShTDo",
      "include_colab_link": true
    },
    "kernelspec": {
      "name": "python3",
      "display_name": "Python 3"
    },
    "language_info": {
      "name": "python"
    }
  },
  "cells": [
    {
      "cell_type": "markdown",
      "metadata": {
        "id": "view-in-github",
        "colab_type": "text"
      },
      "source": [
        "<a href=\"https://colab.research.google.com/github/MYTHILY7/Data-Analysis-and-Visualization-/blob/main/Day3.ipynb\" target=\"_parent\"><img src=\"https://colab.research.google.com/assets/colab-badge.svg\" alt=\"Open In Colab\"/></a>"
      ]
    },
    {
      "cell_type": "markdown",
      "source": [
        "USING ADVANCED DATATYPES FOR ANALYSIS AND PREDICTION\n",
        "\n"
      ],
      "metadata": {
        "id": "MJ1zewffCQym"
      }
    },
    {
      "cell_type": "markdown",
      "source": [
        "LIST"
      ],
      "metadata": {
        "id": "EMqzAFKFgADx"
      }
    },
    {
      "cell_type": "code",
      "execution_count": null,
      "metadata": {
        "colab": {
          "base_uri": "https://localhost:8080/"
        },
        "id": "UYnlduQUe8il",
        "outputId": "2c32ce4c-8e0e-4717-9fcd-f032742124bc"
      },
      "outputs": [
        {
          "output_type": "stream",
          "name": "stdout",
          "text": [
            "['Puma', 'Trends', 'Max', 'Pantaloons', 'Westside', 'H&M', 'Zara']\n"
          ]
        }
      ],
      "source": [
        "shop=[\"Puma\",\"Trends\",\"Max\",\"Pantaloons\",\"Westside\",\"H&M\",\"Zara\"]      #create a list\n",
        "print(shop)"
      ]
    },
    {
      "cell_type": "code",
      "source": [
        "print(shop[-1])  #Access the items in a list using negative indexing"
      ],
      "metadata": {
        "colab": {
          "base_uri": "https://localhost:8080/"
        },
        "id": "KWUvmeWKhEj5",
        "outputId": "5f6f8e30-6b5b-4a08-a30c-fdb18cd6e1f6"
      },
      "execution_count": null,
      "outputs": [
        {
          "output_type": "stream",
          "name": "stdout",
          "text": [
            "Zara\n"
          ]
        }
      ]
    },
    {
      "cell_type": "code",
      "source": [
        "print(shop[1])"
      ],
      "metadata": {
        "colab": {
          "base_uri": "https://localhost:8080/"
        },
        "id": "-AMtgiIZioJz",
        "outputId": "1b11c9af-0e30-451f-ef73-bf8ca6ca8740"
      },
      "execution_count": null,
      "outputs": [
        {
          "output_type": "stream",
          "name": "stdout",
          "text": [
            "Trends\n"
          ]
        }
      ]
    },
    {
      "cell_type": "code",
      "source": [
        "print(shop[1::3])\n",
        "print(shop[-1::-3])"
      ],
      "metadata": {
        "colab": {
          "base_uri": "https://localhost:8080/"
        },
        "id": "AejAN6CsjMgA",
        "outputId": "a8ff1ddf-ef42-478e-8281-1df212bc5617"
      },
      "execution_count": null,
      "outputs": [
        {
          "output_type": "stream",
          "name": "stdout",
          "text": [
            "['Trends', 'Westside']\n",
            "['Zara', 'Pantaloons', 'Puma']\n"
          ]
        }
      ]
    },
    {
      "cell_type": "code",
      "source": [
        "shop.append(\"Lookout\")\n",
        "print(shop)"
      ],
      "metadata": {
        "colab": {
          "base_uri": "https://localhost:8080/"
        },
        "id": "wHLd_5F6l5Qh",
        "outputId": "f9e64047-2d1c-486a-85bf-b44d0f465061"
      },
      "execution_count": null,
      "outputs": [
        {
          "output_type": "stream",
          "name": "stdout",
          "text": [
            "['Mango', 'Trends', 'Max', 'Pantaloons', 'Westside', 'H&M', 'Zara', 'Lookout', 'Lookout', 'Lookout', 'Lookout', 'Lookout']\n"
          ]
        }
      ]
    },
    {
      "cell_type": "code",
      "source": [
        "#Append, Delete, Join and Change values in list\n",
        "shop.append(\"Lookout\")\n",
        "shop[0]=\"Mango\"\n",
        "print(shop)"
      ],
      "metadata": {
        "colab": {
          "base_uri": "https://localhost:8080/"
        },
        "id": "vJHuH95Xi17f",
        "outputId": "25e60b22-b03f-4e77-c2eb-4f59b3ca53c4"
      },
      "execution_count": null,
      "outputs": [
        {
          "output_type": "stream",
          "name": "stdout",
          "text": [
            "['Mango', 'Trends', 'Max', 'Pantaloons', 'Westside', 'H&M', 'Zara', 'Lookout', 'Lookout']\n"
          ]
        }
      ]
    },
    {
      "cell_type": "code",
      "source": [
        "shop"
      ],
      "metadata": {
        "colab": {
          "base_uri": "https://localhost:8080/"
        },
        "id": "bIWnSFfPlgM_",
        "outputId": "50b99979-eea7-470d-9f64-a80c2df7a556"
      },
      "execution_count": null,
      "outputs": [
        {
          "output_type": "execute_result",
          "data": {
            "text/plain": [
              "['Mango',\n",
              " 'Trends',\n",
              " 'Max',\n",
              " 'Pantaloons',\n",
              " 'Westside',\n",
              " 'H&M',\n",
              " 'Zara',\n",
              " 'Lookout',\n",
              " 'Lookout',\n",
              " 'Lookout',\n",
              " 'Lookout',\n",
              " 'Lookout']"
            ]
          },
          "metadata": {},
          "execution_count": 26
        }
      ]
    },
    {
      "cell_type": "code",
      "source": [
        "for x in shop:\n",
        "  print(x)"
      ],
      "metadata": {
        "colab": {
          "base_uri": "https://localhost:8080/"
        },
        "id": "JCxcucbAltBo",
        "outputId": "8b35a550-331e-421c-b1c1-035ce920f046"
      },
      "execution_count": null,
      "outputs": [
        {
          "output_type": "stream",
          "name": "stdout",
          "text": [
            "Mango\n",
            "Trends\n",
            "Max\n",
            "Pantaloons\n",
            "Westside\n",
            "H&M\n",
            "Zara\n",
            "Lookout\n",
            "Lookout\n",
            "Lookout\n",
            "Lookout\n",
            "Lookout\n"
          ]
        }
      ]
    },
    {
      "cell_type": "code",
      "source": [
        "a1=[\"Puma\",\"Trends\",\"Max\"]\n",
        "a2=[\"Pantaloons\",\"Westside\",\"H&M\",\"Zara\"]\n",
        "print(a1+a2)"
      ],
      "metadata": {
        "colab": {
          "base_uri": "https://localhost:8080/"
        },
        "id": "7Y1T-0CqmQxo",
        "outputId": "9c3f7a79-85b0-4a5a-dc9c-dc4e2bd8d659"
      },
      "execution_count": null,
      "outputs": [
        {
          "output_type": "stream",
          "name": "stdout",
          "text": [
            "['Puma', 'Trends', 'Max', 'Pantaloons', 'Westside', 'H&M', 'Zara']\n"
          ]
        }
      ]
    },
    {
      "cell_type": "code",
      "source": [
        "shop.remove(\"H&M\")"
      ],
      "metadata": {
        "id": "3u5YfO_moH1I"
      },
      "execution_count": null,
      "outputs": []
    },
    {
      "cell_type": "code",
      "source": [
        "print(shop)"
      ],
      "metadata": {
        "colab": {
          "base_uri": "https://localhost:8080/"
        },
        "id": "61d1Yiw7muro",
        "outputId": "1db4fe6a-783d-471d-bf4c-1a15abcec833"
      },
      "execution_count": null,
      "outputs": [
        {
          "output_type": "stream",
          "name": "stdout",
          "text": [
            "['Mango', 'Trends', 'Max', 'Pantaloons', 'Westside', 'Zara']\n"
          ]
        }
      ]
    },
    {
      "cell_type": "markdown",
      "source": [
        "TUPLES"
      ],
      "metadata": {
        "id": "Y9dimU34oEPC"
      }
    },
    {
      "cell_type": "code",
      "source": [
        "shop1=(\"Puma\",\"Trends\",\"Max\",\"Pantaloons\",\"Westside\",\"H&M\",\"Zara\",\"Max\")      #create a tuple\n",
        "print(shop1)"
      ],
      "metadata": {
        "colab": {
          "base_uri": "https://localhost:8080/"
        },
        "id": "ZL6R2VYQm-1o",
        "outputId": "ea853626-492d-4b72-bfc4-2e7b7068ecd9"
      },
      "execution_count": null,
      "outputs": [
        {
          "output_type": "stream",
          "name": "stdout",
          "text": [
            "('Puma', 'Trends', 'Max', 'Pantaloons', 'Westside', 'H&M', 'Zara', 'Max')\n"
          ]
        }
      ]
    },
    {
      "cell_type": "code",
      "source": [
        "#change the values in tuple - convert tuple to list and then change values and convert the list back to tuple\n",
        "u=list(shop1)\n",
        "u[1]=\"Target\"\n",
        "shop1=tuple(u)\n",
        "print(shop1)"
      ],
      "metadata": {
        "colab": {
          "base_uri": "https://localhost:8080/"
        },
        "id": "pgWWcVpSovqg",
        "outputId": "d79f577d-c75d-4067-f8be-1032b40ffcae"
      },
      "execution_count": null,
      "outputs": [
        {
          "output_type": "stream",
          "name": "stdout",
          "text": [
            "('Puma', 'Target', 'Max', 'Pantaloons', 'Westside', 'H&M', 'Zara')\n"
          ]
        }
      ]
    },
    {
      "cell_type": "code",
      "source": [
        "#append\n",
        "u=list(shop1)\n",
        "u.append(\"Lookout\")\n",
        "shop1=tuple(u)\n",
        "print(shop1)"
      ],
      "metadata": {
        "colab": {
          "base_uri": "https://localhost:8080/"
        },
        "id": "0P340f80pyPZ",
        "outputId": "a3164760-b7c7-4bbf-8958-c23fd989b81e"
      },
      "execution_count": null,
      "outputs": [
        {
          "output_type": "stream",
          "name": "stdout",
          "text": [
            "('Puma', 'Target', 'Max', 'Pantaloons', 'Westside', 'H&M', 'Zara', 'Lookout')\n"
          ]
        }
      ]
    },
    {
      "cell_type": "code",
      "source": [
        "a1=(\"Puma\",\"Trends\",\"Max\")\n",
        "a2=(\"Pantaloons\",\"Westside\",\"H&M\",\"Zara\")\n",
        "print(a1+a2)"
      ],
      "metadata": {
        "colab": {
          "base_uri": "https://localhost:8080/"
        },
        "id": "wiXwizvgrwWI",
        "outputId": "3868ce22-01be-4736-cd9d-7e606d0a499f"
      },
      "execution_count": null,
      "outputs": [
        {
          "output_type": "stream",
          "name": "stdout",
          "text": [
            "('Puma', 'Trends', 'Max', 'Pantaloons', 'Westside', 'H&M', 'Zara')\n"
          ]
        }
      ]
    },
    {
      "cell_type": "code",
      "source": [
        "u=list(shop1)\n",
        "u.remove(\"H&M\")\n",
        "shop1=tuple(u)\n",
        "print(shop1)"
      ],
      "metadata": {
        "colab": {
          "base_uri": "https://localhost:8080/"
        },
        "id": "Hld3KUv0tkBa",
        "outputId": "d2bf8b02-9c3a-4f4d-c519-971e31ea0ca8"
      },
      "execution_count": null,
      "outputs": [
        {
          "output_type": "stream",
          "name": "stdout",
          "text": [
            "('Puma', 'Target', 'Max', 'Pantaloons', 'Westside', 'Zara', 'Lookout')\n"
          ]
        }
      ]
    },
    {
      "cell_type": "markdown",
      "source": [
        "SET"
      ],
      "metadata": {
        "id": "bOLDtUU2uy4i"
      }
    },
    {
      "cell_type": "code",
      "source": [
        "shop2={\"Puma\",\"Trends\",\"Max\",\"Pantaloons\",\"Westside\",\"H&M\",\"Zara\",\"Max\"}      #create a set\n",
        "print(shop2)"
      ],
      "metadata": {
        "colab": {
          "base_uri": "https://localhost:8080/"
        },
        "id": "EQnNQkz2toMJ",
        "outputId": "b495e534-216d-4b34-b74c-47923e88e173"
      },
      "execution_count": null,
      "outputs": [
        {
          "output_type": "stream",
          "name": "stdout",
          "text": [
            "{'Zara', 'H&M', 'Trends', 'Max', 'Puma', 'Westside', 'Pantaloons'}\n"
          ]
        }
      ]
    },
    {
      "cell_type": "code",
      "source": [
        "#Append, delete, join and change the values in set\n",
        "shop2.add(\"Target\")\n",
        "print(shop2)"
      ],
      "metadata": {
        "colab": {
          "base_uri": "https://localhost:8080/"
        },
        "id": "E9QKSZW1vRvJ",
        "outputId": "9a438622-58ae-453e-a7f7-0ee3e2eb8d10"
      },
      "execution_count": null,
      "outputs": [
        {
          "output_type": "stream",
          "name": "stdout",
          "text": [
            "{'Zara', 'H&M', 'Trends', 'Max', 'Target', 'Puma', 'Westside', 'Pantaloons'}\n"
          ]
        }
      ]
    },
    {
      "cell_type": "code",
      "source": [
        "shop2.remove(\"H&M\")\n",
        "print(shop2)"
      ],
      "metadata": {
        "colab": {
          "base_uri": "https://localhost:8080/"
        },
        "id": "pRQ33Qe1vvnp",
        "outputId": "abcf50c2-d3cb-4502-d424-0fdc5f49ac40"
      },
      "execution_count": null,
      "outputs": [
        {
          "output_type": "stream",
          "name": "stdout",
          "text": [
            "{'Zara', 'Trends', 'Max', 'Target', 'Puma', 'Westside', 'Pantaloons'}\n"
          ]
        }
      ]
    },
    {
      "cell_type": "code",
      "source": [
        "a1={\"Puma\",\"Trends\",\"Max\"}\n",
        "a2={\"Pantaloons\",\"Westside\",\"H&M\",\"Zara\"}\n",
        "a1.update(a2)\n",
        "a1"
      ],
      "metadata": {
        "colab": {
          "base_uri": "https://localhost:8080/"
        },
        "id": "ZGsVPFL2wGPR",
        "outputId": "1e1f0d2c-b11b-4edc-b8f2-295e075df59d"
      },
      "execution_count": null,
      "outputs": [
        {
          "output_type": "execute_result",
          "data": {
            "text/plain": [
              "{'H&M', 'Max', 'Pantaloons', 'Puma', 'Trends', 'Westside', 'Zara'}"
            ]
          },
          "metadata": {},
          "execution_count": 61
        }
      ]
    },
    {
      "cell_type": "code",
      "source": [
        "u={\"ASOS\"}\n",
        "shop2.update(u)\n",
        "shop2"
      ],
      "metadata": {
        "colab": {
          "base_uri": "https://localhost:8080/"
        },
        "id": "Y-TOraMMws7y",
        "outputId": "280c81db-bf4f-484d-b33d-0aa8d5589fc5"
      },
      "execution_count": null,
      "outputs": [
        {
          "output_type": "execute_result",
          "data": {
            "text/plain": [
              "{'ASOS', 'Max', 'Pantaloons', 'Puma', 'Target', 'Trends', 'Westside', 'Zara'}"
            ]
          },
          "metadata": {},
          "execution_count": 62
        }
      ]
    },
    {
      "cell_type": "markdown",
      "source": [
        "DICTIONARY"
      ],
      "metadata": {
        "id": "fO3b9l2s7cHE"
      }
    },
    {
      "cell_type": "code",
      "source": [
        "#create dictionary\n",
        "shop3 = {\n",
        "  \"brand\": \"Puma\",\n",
        "  \"dress\": \"Jumpsuit\",\n",
        "  \"size\": 30\n",
        "}\n",
        "print(shop3)"
      ],
      "metadata": {
        "colab": {
          "base_uri": "https://localhost:8080/"
        },
        "id": "S3cUNq-CyB4p",
        "outputId": "a09ae102-537f-4b59-c82f-9455be855c9c"
      },
      "execution_count": null,
      "outputs": [
        {
          "output_type": "stream",
          "name": "stdout",
          "text": [
            "{'brand': 'Puma', 'dress': 'Jumpsuit', 'size': 30}\n"
          ]
        }
      ]
    },
    {
      "cell_type": "code",
      "source": [
        "#change\n",
        "shop3[\"dress\"]=\"Lehanga\"\n",
        "shop3"
      ],
      "metadata": {
        "colab": {
          "base_uri": "https://localhost:8080/"
        },
        "id": "UC9Hkxon7wO8",
        "outputId": "3957382f-7397-4298-938c-630e9ef29bbd"
      },
      "execution_count": null,
      "outputs": [
        {
          "output_type": "execute_result",
          "data": {
            "text/plain": [
              "{'brand': 'Puma', 'dress': 'Lehanga', 'size': 30}"
            ]
          },
          "metadata": {},
          "execution_count": 66
        }
      ]
    },
    {
      "cell_type": "code",
      "source": [
        "#delete\n",
        "del shop3[\"size\"]\n",
        "shop3"
      ],
      "metadata": {
        "colab": {
          "base_uri": "https://localhost:8080/"
        },
        "id": "MLdl-m3m8CH7",
        "outputId": "9e51cb0e-f183-412a-a407-130d4b97ba72"
      },
      "execution_count": null,
      "outputs": [
        {
          "output_type": "execute_result",
          "data": {
            "text/plain": [
              "{'brand': 'Puma', 'dress': 'Lehanga'}"
            ]
          },
          "metadata": {},
          "execution_count": 67
        }
      ]
    },
    {
      "cell_type": "code",
      "source": [
        "#to delete all elements in dictionary\n",
        "shop4 = {\n",
        "  \"brand\": \"Zara\",\n",
        "  \"dress\": \"Gagra choli\",\n",
        "  \"size\": 34\n",
        "}\n",
        "print(shop4)\n",
        "shop4.clear()\n",
        "print(shop4)"
      ],
      "metadata": {
        "colab": {
          "base_uri": "https://localhost:8080/"
        },
        "id": "A71ugBCF8UAq",
        "outputId": "e6cc1abd-fcdc-4c71-a95e-df27936d3007"
      },
      "execution_count": null,
      "outputs": [
        {
          "output_type": "stream",
          "name": "stdout",
          "text": [
            "{'brand': 'Zara', 'dress': 'Gagra choli', 'size': 34}\n",
            "{}\n"
          ]
        }
      ]
    },
    {
      "cell_type": "code",
      "source": [
        "#update dictionary\n",
        "s1 = {\n",
        "  \"brand\": \"Puma\",\n",
        "  \"dress\": \"Jumpsuit\",\n",
        "  \"size\": 30\n",
        "}\n",
        "s2 = {\n",
        "  \"brand\": \"Zara\",\n",
        "  \"dress\": \"Gagra choli\",\n",
        "  \"size\": 34\n",
        "}\n",
        "s1.update(s2)\n",
        "print(s1)"
      ],
      "metadata": {
        "colab": {
          "base_uri": "https://localhost:8080/"
        },
        "id": "z3qCxkhH86fc",
        "outputId": "26e7c260-2d99-4e16-ca36-282a5fd5c38a"
      },
      "execution_count": null,
      "outputs": [
        {
          "output_type": "stream",
          "name": "stdout",
          "text": [
            "{'brand': 'Zara', 'dress': 'Gagra choli', 'size': 34}\n"
          ]
        }
      ]
    },
    {
      "cell_type": "code",
      "source": [
        "#Create a nested dictionary\n",
        "sm={\"PUMA\":{1:\"Shoes\",2:\"Hat\"},\"Zara\":{1:\"Lehanga\",2:\"Saree\"}}\n",
        "sm"
      ],
      "metadata": {
        "colab": {
          "base_uri": "https://localhost:8080/"
        },
        "id": "8cwp578y9l5T",
        "outputId": "073bb4d4-db59-4d8b-dc3f-adc10f701ceb"
      },
      "execution_count": null,
      "outputs": [
        {
          "output_type": "execute_result",
          "data": {
            "text/plain": [
              "{'PUMA': {1: 'Shoes', 2: 'Hat'}, 'Zara': {1: 'Lehanga', 2: 'Saree'}}"
            ]
          },
          "metadata": {},
          "execution_count": 71
        }
      ]
    },
    {
      "cell_type": "code",
      "source": [
        "#update nested dictionary\n",
        "sm[\"PUMA\"][1]=\"Bat\"\n",
        "print(sm)"
      ],
      "metadata": {
        "colab": {
          "base_uri": "https://localhost:8080/"
        },
        "id": "9zhDJyTC_JHs",
        "outputId": "edd05520-5cc4-4039-cdc2-391fd7163562"
      },
      "execution_count": null,
      "outputs": [
        {
          "output_type": "stream",
          "name": "stdout",
          "text": [
            "{'PUMA': {1: 'Bat', 2: 'Hat'}, 'Zara': {1: 'Lehanga', 2: 'Saree'}}\n"
          ]
        }
      ]
    },
    {
      "cell_type": "code",
      "source": [],
      "metadata": {
        "id": "F6L3f8fH_d7E"
      },
      "execution_count": null,
      "outputs": []
    }
  ]
}