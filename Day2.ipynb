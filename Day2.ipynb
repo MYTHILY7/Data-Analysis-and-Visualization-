{
  "nbformat": 4,
  "nbformat_minor": 0,
  "metadata": {
    "colab": {
      "provenance": [],
      "authorship_tag": "ABX9TyOUaeQbGTk1fLXOLQA3OqRW",
      "include_colab_link": true
    },
    "kernelspec": {
      "name": "python3",
      "display_name": "Python 3"
    },
    "language_info": {
      "name": "python"
    }
  },
  "cells": [
    {
      "cell_type": "markdown",
      "metadata": {
        "id": "view-in-github",
        "colab_type": "text"
      },
      "source": [
        "<a href=\"https://colab.research.google.com/github/MYTHILY7/Data-Analysis-and-Visualization-/blob/main/Day2.ipynb\" target=\"_parent\"><img src=\"https://colab.research.google.com/assets/colab-badge.svg\" alt=\"Open In Colab\"/></a>"
      ]
    },
    {
      "cell_type": "code",
      "metadata": {
        "colab": {
          "base_uri": "https://localhost:8080/"
        },
        "id": "xpzXdP6XaMbE",
        "outputId": "d60f9f38-0259-43a9-8cf6-e5654aac8d2e"
      },
      "source": [
        "mynumber=3\n",
        "print(mynumber)\n",
        "mynumber2=4.5\n",
        "print(mynumber2)\n",
        "mychar=\"heyyyy\"\n",
        "print(mychar)"
      ],
      "execution_count": null,
      "outputs": [
        {
          "output_type": "stream",
          "name": "stdout",
          "text": [
            "3\n",
            "4.5\n",
            "heyyyy\n"
          ]
        }
      ]
    },
    {
      "cell_type": "code",
      "metadata": {
        "colab": {
          "base_uri": "https://localhost:8080/"
        },
        "id": "_uIVmgPJcqvN",
        "outputId": "78d02c53-c7d1-4187-ba28-f9d1d588b3ed"
      },
      "source": [
        "myvariable=\"mythu\"\n",
        "print(myvariable)"
      ],
      "execution_count": null,
      "outputs": [
        {
          "output_type": "stream",
          "name": "stdout",
          "text": [
            "mythu\n"
          ]
        }
      ]
    },
    {
      "cell_type": "code",
      "metadata": {
        "colab": {
          "base_uri": "https://localhost:8080/"
        },
        "id": "IPjHM8kSc6xv",
        "outputId": "0833c06e-a084-4f53-fb26-923f1d60ec0b"
      },
      "source": [
        "x,y,z=\"apple\",\"rasogulla\",\"biryani\"\n",
        "print(x)\n",
        "print(y)\n",
        "print(z)\n",
        "print(x,\"\\n\",y,\"\\n\",z)"
      ],
      "execution_count": null,
      "outputs": [
        {
          "output_type": "stream",
          "name": "stdout",
          "text": [
            "apple\n",
            "rasogulla\n",
            "biryani\n",
            "apple \n",
            " rasogulla \n",
            " biryani\n"
          ]
        }
      ]
    },
    {
      "cell_type": "code",
      "metadata": {
        "colab": {
          "base_uri": "https://localhost:8080/"
        },
        "id": "nlaJrydad5P5",
        "outputId": "b75b316b-7c87-4c95-e1ed-280c7448abc3"
      },
      "source": [
        "x='hello'\n",
        "print(x)"
      ],
      "execution_count": null,
      "outputs": [
        {
          "output_type": "stream",
          "name": "stdout",
          "text": [
            "hello\n"
          ]
        }
      ]
    },
    {
      "cell_type": "code",
      "metadata": {
        "colab": {
          "base_uri": "https://localhost:8080/"
        },
        "id": "xt49V3UUeK6g",
        "outputId": "a4122e01-e996-4c6f-9850-d2d0a5062bbc"
      },
      "source": [
        "x,y,z,m='have','a','good','night'\n",
        "print(x,y,z,m)"
      ],
      "execution_count": null,
      "outputs": [
        {
          "output_type": "stream",
          "name": "stdout",
          "text": [
            "have a good night\n"
          ]
        }
      ]
    },
    {
      "cell_type": "code",
      "metadata": {
        "colab": {
          "base_uri": "https://localhost:8080/"
        },
        "id": "xHMu0TpZeeEv",
        "outputId": "6be39811-3178-455f-bb39-38abd1ae66dd"
      },
      "source": [
        "colours='blue','black','red'\n",
        "x,y,z=colours\n",
        "print(x,\"\\n\",y,\"\\n\",z)"
      ],
      "execution_count": null,
      "outputs": [
        {
          "output_type": "stream",
          "name": "stdout",
          "text": [
            "blue \n",
            " black \n",
            " red\n"
          ]
        }
      ]
    },
    {
      "cell_type": "code",
      "metadata": {
        "colab": {
          "base_uri": "https://localhost:8080/"
        },
        "id": "9R8xp3z2gKB1",
        "outputId": "21801086-201a-4275-e023-5d05e59c0010"
      },
      "source": [
        "x=\"NIGHT CLASS\"\n",
        "y=\" IS BORING\"\n",
        "z=x+y\n",
        "print(z)"
      ],
      "execution_count": null,
      "outputs": [
        {
          "output_type": "stream",
          "name": "stdout",
          "text": [
            "NIGHT CLASS IS BORING\n"
          ]
        }
      ]
    },
    {
      "cell_type": "code",
      "metadata": {
        "colab": {
          "base_uri": "https://localhost:8080/"
        },
        "id": "xXDMDgW_hMfP",
        "outputId": "5ed1e2a4-bb54-485b-a178-fd6c6d84ef03"
      },
      "source": [
        "x=\"the operation product is\"\n",
        "z=333\n",
        "y=357\n",
        "m=z*y\n",
        "print(x)\n",
        "print(m)"
      ],
      "execution_count": null,
      "outputs": [
        {
          "output_type": "stream",
          "name": "stdout",
          "text": [
            "the operation product is\n",
            "118881\n"
          ]
        }
      ]
    },
    {
      "cell_type": "code",
      "metadata": {
        "colab": {
          "base_uri": "https://localhost:8080/"
        },
        "id": "BuFKf1DDiceo",
        "outputId": "831603ea-c4ce-4823-9ad6-14af520d6307"
      },
      "source": [
        "x=float(345)\n",
        "y=int(2.99)\n",
        "z=str(\"hello\")\n",
        "print(x)\n",
        "print(y)\n",
        "print(z)"
      ],
      "execution_count": null,
      "outputs": [
        {
          "output_type": "stream",
          "name": "stdout",
          "text": [
            "345.0\n",
            "2\n",
            "hello\n"
          ]
        }
      ]
    },
    {
      "cell_type": "code",
      "metadata": {
        "colab": {
          "base_uri": "https://localhost:8080/"
        },
        "id": "eVcHm0ubjC2m",
        "outputId": "a27bd168-016f-445b-f0d8-dcfcaa067e6c"
      },
      "source": [
        "#code for disbling the software feature\n",
        "print('B','I','T',sep='')\n",
        "#for formatting a date\n",
        "print('25','05','2004',sep='-')\n",
        "#another example\n",
        "print('mythily.ec21','bitsathy.ac.in',sep='@')"
      ],
      "execution_count": null,
      "outputs": [
        {
          "output_type": "stream",
          "name": "stdout",
          "text": [
            "BIT\n",
            "25-05-2004\n",
            "mythily.ec21@bitsathy.ac.in\n"
          ]
        }
      ]
    },
    {
      "cell_type": "code",
      "metadata": {
        "id": "MXMvxAMzpmwc"
      },
      "source": [
        "print(\"heyy idiot\",end='**')\n",
        "print(\"welcome to sleep zone\")"
      ],
      "execution_count": null,
      "outputs": []
    },
    {
      "cell_type": "code",
      "metadata": {
        "id": "1hHDotpUqHAk",
        "colab": {
          "base_uri": "https://localhost:8080/"
        },
        "outputId": "74faae0b-fddb-481b-97d4-8bd7b7f02a62"
      },
      "source": [
        "import math\n",
        "print(math.factorial(10))"
      ],
      "execution_count": null,
      "outputs": [
        {
          "output_type": "stream",
          "name": "stdout",
          "text": [
            "3628800\n"
          ]
        }
      ]
    },
    {
      "cell_type": "code",
      "metadata": {
        "colab": {
          "base_uri": "https://localhost:8080/"
        },
        "id": "Gp9lo9P7sqIs",
        "outputId": "61a27f70-b025-4f68-9156-7a9a36c8bb4c"
      },
      "source": [
        "name=input(\"Enter ur name:\")\n",
        "print(\"Hai d\",name)"
      ],
      "execution_count": null,
      "outputs": [
        {
          "output_type": "stream",
          "name": "stdout",
          "text": [
            "Enter ur name:mythu\n",
            "Hai d mythu\n"
          ]
        }
      ]
    },
    {
      "cell_type": "code",
      "metadata": {
        "colab": {
          "base_uri": "https://localhost:8080/"
        },
        "id": "xHT0uGdBtaZc",
        "outputId": "f14a7855-16e2-43ef-9591-b93214b9ebcd"
      },
      "source": [
        "name=input(\"people who hate engineering graphics:\")\n",
        "print(\"Ur teammates are\",name)"
      ],
      "execution_count": null,
      "outputs": [
        {
          "output_type": "stream",
          "name": "stdout",
          "text": [
            "people who hate engineering graphics:jaishree,yogalakshmi\n",
            "Ur teammates are jaishree,yogalakshmi\n"
          ]
        }
      ]
    },
    {
      "cell_type": "code",
      "metadata": {
        "colab": {
          "base_uri": "https://localhost:8080/"
        },
        "id": "oux2C8HXuoRd",
        "outputId": "bccb5478-84ff-4d8f-c478-09e933e766fe"
      },
      "source": [
        "num1=int(input(\"Enter num1:\"))\n",
        "num2=int(input(\"Enter num2:\"))\n",
        "num3=num1*num2\n",
        "print(\"Product is:\",num3)"
      ],
      "execution_count": null,
      "outputs": [
        {
          "output_type": "stream",
          "name": "stdout",
          "text": [
            "Enter num1:25\n",
            "Enter num2:99\n",
            "Product is: 2475\n"
          ]
        }
      ]
    },
    {
      "cell_type": "code",
      "metadata": {
        "colab": {
          "base_uri": "https://localhost:8080/"
        },
        "id": "z7vdESiEvtpM",
        "outputId": "b6b39be3-895c-4ded-c929-6955ae19fa73"
      },
      "source": [
        "num1=input(\"Enter any no:\")\n",
        "print(num1)\n",
        "num2=input(\"Enter any no:\")\n",
        "print(num2)\n",
        "print(\"Type of num\",type(num1))\n",
        "print(\"Type of num\",type(num2))"
      ],
      "execution_count": null,
      "outputs": [
        {
          "output_type": "stream",
          "name": "stdout",
          "text": [
            "Enter any no:34\n",
            "34\n",
            "Enter any no:3.5\n",
            "3.5\n",
            "Type of num <class 'str'>\n",
            "Type of num <class 'str'>\n"
          ]
        }
      ]
    },
    {
      "cell_type": "code",
      "metadata": {
        "colab": {
          "base_uri": "https://localhost:8080/"
        },
        "id": "gS2dkPVEygPU",
        "outputId": "5b9fcdb9-64c1-459e-bd6d-59d00d53c102"
      },
      "source": [
        "a,b=input(\"Enter 2 values:\").split(\",\")\n",
        "print(\"No Absent: \",a)\n",
        "print(\"no present: \",b)\n",
        "print()"
      ],
      "execution_count": null,
      "outputs": [
        {
          "output_type": "stream",
          "name": "stdout",
          "text": [
            "Enter 2 values:93,39\n",
            "No Absent:  93\n",
            "no present:  39\n",
            "\n"
          ]
        }
      ]
    },
    {
      "cell_type": "code",
      "metadata": {
        "colab": {
          "base_uri": "https://localhost:8080/"
        },
        "id": "sXm6SiCB1lk8",
        "outputId": "109e6acc-14ea-4c48-aa1a-37a90062b93a"
      },
      "source": [
        "a=int(input())\n",
        "b=int(input())\n",
        "c=int(input())\n",
        "c=a+b\n",
        "print(\"result:\",c)\n",
        "c=a-b\n",
        "print(\"result:\",c)\n",
        "c=a*b\n",
        "print(\"result:\",c)\n",
        "c=a/b\n",
        "print(\"result:\",c)"
      ],
      "execution_count": null,
      "outputs": [
        {
          "output_type": "stream",
          "name": "stdout",
          "text": [
            "36\n",
            "73\n",
            "93\n",
            "result: 109\n",
            "result: -37\n",
            "result: 2628\n",
            "result: 0.4931506849315068\n"
          ]
        }
      ]
    },
    {
      "cell_type": "code",
      "metadata": {
        "colab": {
          "base_uri": "https://localhost:8080/"
        },
        "id": "vLfwj2yM6Wpc",
        "outputId": "0b8f3614-567e-43d1-cae1-e0bef467f505"
      },
      "source": [
        "x=int(input())\n",
        "y=int(input())\n",
        "print(\"x>y is\",x>y)\n",
        "print(\"x<y is\",x<y)\n",
        "print(\"x==y is\",x==y)\n",
        "print(\"x!=y is\",x!=y)\n",
        "print(\"x>=y is\",x>=y)\n",
        "print(\"x<=y is\",x<=y)"
      ],
      "execution_count": null,
      "outputs": [
        {
          "output_type": "stream",
          "name": "stdout",
          "text": [
            "35\n",
            "93\n",
            "x>y is False\n",
            "x<y is True\n",
            "x==y is False\n",
            "x!=y is True\n",
            "x>=y is False\n",
            "x<=y is True\n"
          ]
        }
      ]
    },
    {
      "cell_type": "code",
      "metadata": {
        "colab": {
          "base_uri": "https://localhost:8080/"
        },
        "id": "kSQ0MkxO9AxV",
        "outputId": "e9a7195d-b92c-4b43-b394-1862773eb1fd"
      },
      "source": [
        "x=45\n",
        "y=35\n",
        "print(\"x and y is\",x and y)\n",
        "print(\"x or y is\",x or y)\n",
        "print(\"not x is\",not x)"
      ],
      "execution_count": null,
      "outputs": [
        {
          "output_type": "stream",
          "name": "stdout",
          "text": [
            "x and y is 35\n",
            "x or y is 45\n",
            "not x is False\n"
          ]
        }
      ]
    },
    {
      "cell_type": "code",
      "metadata": {
        "colab": {
          "base_uri": "https://localhost:8080/"
        },
        "id": "csoO8aGzcKL8",
        "outputId": "1e02a635-dde8-41ea-89bf-81d09a7e066b"
      },
      "source": [
        "num=3\n",
        "if num>0:\n",
        "  print(num,\"is a positive num\")\n",
        "  print(\"this is always printed\")\n",
        "  num1=-56\n",
        "  if num1>0:\n",
        "    print(num1,\"is a positive num\")\n",
        "    print(\"this is also always printed\")"
      ],
      "execution_count": null,
      "outputs": [
        {
          "output_type": "stream",
          "name": "stdout",
          "text": [
            "3 is a positive num\n",
            "this is always printed\n"
          ]
        }
      ]
    },
    {
      "cell_type": "code",
      "metadata": {
        "colab": {
          "base_uri": "https://localhost:8080/"
        },
        "id": "lNEOfKNheZyl",
        "outputId": "28cc1bec-6758-4f89-8707-edbdaafd2128"
      },
      "source": [
        "num=73\n",
        "if num>=0:\n",
        "  print(\"Positive or zero\")\n",
        "else:\n",
        "    print(\"Negative num\")"
      ],
      "execution_count": null,
      "outputs": [
        {
          "output_type": "stream",
          "name": "stdout",
          "text": [
            "Positive or zero\n"
          ]
        }
      ]
    },
    {
      "cell_type": "code",
      "metadata": {
        "colab": {
          "base_uri": "https://localhost:8080/"
        },
        "id": "d0q9n7PjgLZR",
        "outputId": "47a5a131-ef8e-41e4-a44a-ef2b452c558d"
      },
      "source": [
        "abc=\"tuesday\"\n",
        "if abc==\"monday\":\n",
        "  print(\"today is monday\")\n",
        "else:\n",
        "  print(\"idk\")\n"
      ],
      "execution_count": null,
      "outputs": [
        {
          "output_type": "stream",
          "name": "stdout",
          "text": [
            "idk\n"
          ]
        }
      ]
    },
    {
      "cell_type": "code",
      "metadata": {
        "colab": {
          "base_uri": "https://localhost:8080/"
        },
        "id": "grCyXrQLiNSz",
        "outputId": "a17b4f59-b9d3-48bd-da95-ed04e77c03f3"
      },
      "source": [
        "num=3579\n",
        "if num>0:\n",
        "  print(\"positive num\")\n",
        "elif num==0:\n",
        "  print(\"zero\")\n",
        "else:\n",
        "  print(\"negative num\")"
      ],
      "execution_count": null,
      "outputs": [
        {
          "output_type": "stream",
          "name": "stdout",
          "text": [
            "positive num\n"
          ]
        }
      ]
    },
    {
      "cell_type": "code",
      "metadata": {
        "colab": {
          "base_uri": "https://localhost:8080/"
        },
        "id": "bBfD_gZfjTFa",
        "outputId": "42c00a78-04bf-4dee-9b97-2a23f23bbf47"
      },
      "source": [
        "name=input(\"enter employee name:\")\n",
        "print(name)\n",
        "exp=int(input(\"enter your no of years of experience:\"))\n",
        "print(exp)\n",
        "sal=int(input(\"enter your salary:\"))\n",
        "print(sal)\n",
        "if exp>=5:\n",
        "  x=sal*5/100;\n",
        "  sal=sal+x;\n",
        "  print(\"u have bonus of\",sal)\n",
        "else:\n",
        "  print(\"not eligible\")"
      ],
      "execution_count": null,
      "outputs": [
        {
          "output_type": "stream",
          "name": "stdout",
          "text": [
            "enter employee name:Mythily\n",
            "Mythily\n",
            "enter your no of years of experience:7\n",
            "7\n",
            "enter your salary:200000\n",
            "200000\n",
            "u have bonus of 210000.0\n"
          ]
        }
      ]
    },
    {
      "cell_type": "code",
      "metadata": {
        "colab": {
          "base_uri": "https://localhost:8080/"
        },
        "id": "gD4IfiH3o65p",
        "outputId": "5c15b60a-ad56-4b79-f337-6efa2a3e1c84"
      },
      "source": [
        "num=int(input(\"enter any number:\"))\n",
        "if num%2==0:\n",
        "  print(\"It is an even number\")\n",
        "else:\n",
        "    print(\"It is an odd num\")"
      ],
      "execution_count": null,
      "outputs": [
        {
          "output_type": "stream",
          "name": "stdout",
          "text": [
            "enter any number:37\n",
            "It is an odd num\n"
          ]
        }
      ]
    },
    {
      "cell_type": "code",
      "metadata": {
        "colab": {
          "base_uri": "https://localhost:8080/"
        },
        "id": "pRnBOUpVqW14",
        "outputId": "a956f2be-7c72-48d6-9abb-a9a6ff97f0bc"
      },
      "source": [
        "mark1=int(input(\"enter your mark1:\"))\n",
        "mark2=int(input(\"enter your mark2:\"))\n",
        "mark3=int(input(\"enter your mark3:\"))\n",
        "mark4=int(input(\"enter your mark4:\"))\n",
        "tot=mark1+mark2+mark3+mark4\n",
        "print(\"total marks\",tot)\n",
        "percent=tot*(100/400)\n",
        "print(percent)\n",
        "if percent>=90:\n",
        "  print(\"first class\")\n",
        "else:\n",
        "  print(\"fail da\")\n"
      ],
      "execution_count": null,
      "outputs": [
        {
          "output_type": "stream",
          "name": "stdout",
          "text": [
            "enter your mark1:100\n",
            "enter your mark2:90\n",
            "enter your mark3:60\n",
            "enter your mark4:80\n",
            "total marks 330\n",
            "82.5\n",
            "fail da\n"
          ]
        }
      ]
    },
    {
      "cell_type": "code",
      "source": [
        "a=1000\n",
        "b=300\n",
        "c=3000\n",
        "if a>b and c>a:\n",
        "  print(\"both conditions are true\")\n",
        "else:\n",
        "    print(\"conditions are false\")"
      ],
      "metadata": {
        "colab": {
          "base_uri": "https://localhost:8080/"
        },
        "id": "9bnNN6Dqu1I3",
        "outputId": "b37a58d2-83c4-4643-c277-cae7e2ebbc68"
      },
      "execution_count": null,
      "outputs": [
        {
          "output_type": "stream",
          "name": "stdout",
          "text": [
            "both conditions are true\n"
          ]
        }
      ]
    },
    {
      "cell_type": "code",
      "source": [
        "a=200\n",
        "b=33\n",
        "c=5\n",
        "if a>b or a>c:\n",
        " print(\"atleast one of the condition is true\")\n",
        "else:\n",
        " print(\"both conditions are false\")\n",
        ""
      ],
      "metadata": {
        "colab": {
          "base_uri": "https://localhost:8080/"
        },
        "id": "e5m_P8kqvu50",
        "outputId": "e3c23a3a-82a0-4411-a23d-c45425df804f"
      },
      "execution_count": null,
      "outputs": [
        {
          "output_type": "stream",
          "name": "stdout",
          "text": [
            "atleast one of the condition is true\n"
          ]
        }
      ]
    },
    {
      "cell_type": "code",
      "source": [
        "x=13\n",
        "if x>10:\n",
        "  print(\"above ten,\")\n",
        "  if x>20:\n",
        "    print(\"and also above 20!\")\n",
        "  else:\n",
        "      print(\"but not above 20\")"
      ],
      "metadata": {
        "colab": {
          "base_uri": "https://localhost:8080/"
        },
        "id": "yWSMxcBqxgO1",
        "outputId": "e1aed55d-bcee-436a-cc25-0059fab16940"
      },
      "execution_count": null,
      "outputs": [
        {
          "output_type": "stream",
          "name": "stdout",
          "text": [
            "above ten,\n",
            "but not above 20\n"
          ]
        }
      ]
    },
    {
      "cell_type": "code",
      "source": [
        "num=input(\"enter any no:\")\n",
        "num1=input(\"enter any no:\")\n",
        "num2=input(\"enter:\")\n",
        "if num==num1 and num1==num2 and num2==num:\n",
        "  print(\"enter diff numbers\")\n",
        "else:\n",
        " if num>num1 and num1>num2:\n",
        "  print(\"1st num is the greatest number\")\n",
        " elif num1>num2:\n",
        "    print(\"2nd num is the greatest num\")\n",
        " else:\n",
        "      print(\"3rd number is the greatest\")\n"
      ],
      "metadata": {
        "colab": {
          "base_uri": "https://localhost:8080/"
        },
        "id": "Kh_JXb6LyFLM",
        "outputId": "2f67f145-38ca-4b78-e49e-0b29cd8a6444"
      },
      "execution_count": null,
      "outputs": [
        {
          "output_type": "stream",
          "name": "stdout",
          "text": [
            "enter any no:94657\n",
            "enter any no:9347856\n",
            "enter:9348756\n",
            "3rd number is the greatest\n"
          ]
        }
      ]
    },
    {
      "cell_type": "code",
      "source": [
        "i=1\n",
        "while i<6:\n",
        "  print(i)\n",
        "  i+=1"
      ],
      "metadata": {
        "colab": {
          "base_uri": "https://localhost:8080/"
        },
        "id": "Bubkhbyl0Ewi",
        "outputId": "e4d9b97b-22a7-4c27-dce5-e7ff15cf0300"
      },
      "execution_count": null,
      "outputs": [
        {
          "output_type": "stream",
          "name": "stdout",
          "text": [
            "1\n",
            "2\n",
            "3\n",
            "4\n",
            "5\n"
          ]
        }
      ]
    },
    {
      "cell_type": "code",
      "source": [
        "i=2\n",
        "while i<20:\n",
        " print(i)\n",
        " i+=2"
      ],
      "metadata": {
        "colab": {
          "base_uri": "https://localhost:8080/"
        },
        "id": "DI3URGvH6S1G",
        "outputId": "4c4bae8e-a7e7-48bf-b1ea-737e6cbc6b3e"
      },
      "execution_count": null,
      "outputs": [
        {
          "output_type": "stream",
          "name": "stdout",
          "text": [
            "2\n",
            "4\n",
            "6\n",
            "8\n",
            "10\n",
            "12\n",
            "14\n",
            "16\n",
            "18\n"
          ]
        }
      ]
    },
    {
      "cell_type": "code",
      "source": [
        "i=1\n",
        "while i<=10:\n",
        "  print(\"Mythily\")\n",
        "  i+=1"
      ],
      "metadata": {
        "colab": {
          "base_uri": "https://localhost:8080/"
        },
        "id": "xZvwVsjX9DDG",
        "outputId": "3e84f895-b293-4079-a2e4-13d046a9c15a"
      },
      "execution_count": null,
      "outputs": [
        {
          "output_type": "stream",
          "name": "stdout",
          "text": [
            "Mythily\n",
            "Mythily\n",
            "Mythily\n",
            "Mythily\n",
            "Mythily\n",
            "Mythily\n",
            "Mythily\n",
            "Mythily\n",
            "Mythily\n",
            "Mythily\n"
          ]
        }
      ]
    },
    {
      "cell_type": "code",
      "source": [
        "i=1\n",
        "sum=0\n",
        "while (i<=10):\n",
        "  sum+=i\n",
        "  i+=1\n",
        "  print(\"sum:\",sum)"
      ],
      "metadata": {
        "colab": {
          "base_uri": "https://localhost:8080/"
        },
        "id": "8dRR_kXzGYRs",
        "outputId": "a87c7fba-93c7-4c84-8c70-d31483d15a9b"
      },
      "execution_count": null,
      "outputs": [
        {
          "output_type": "stream",
          "name": "stdout",
          "text": [
            "sum: 1\n",
            "sum: 3\n",
            "sum: 6\n",
            "sum: 10\n",
            "sum: 15\n",
            "sum: 21\n",
            "sum: 28\n",
            "sum: 36\n",
            "sum: 45\n",
            "sum: 55\n"
          ]
        }
      ]
    },
    {
      "cell_type": "code",
      "source": [
        "i=0\n",
        "while i<6:\n",
        "  i+=1\n",
        "  if i==3:\n",
        "    continue\n",
        "  print(i)"
      ],
      "metadata": {
        "id": "BfJuCMuEKizS",
        "colab": {
          "base_uri": "https://localhost:8080/"
        },
        "outputId": "de32e353-8b3a-4555-bddb-61c22c82aec7"
      },
      "execution_count": null,
      "outputs": [
        {
          "output_type": "stream",
          "name": "stdout",
          "text": [
            "1\n",
            "2\n",
            "4\n",
            "5\n",
            "6\n"
          ]
        }
      ]
    },
    {
      "cell_type": "code",
      "source": [
        "for x in range(2,11,2):\n",
        "  print(x)"
      ],
      "metadata": {
        "id": "XExUZuXGMuXg",
        "colab": {
          "base_uri": "https://localhost:8080/"
        },
        "outputId": "cc938a04-40ef-43a9-ddb8-3eb07a501268"
      },
      "execution_count": null,
      "outputs": [
        {
          "output_type": "stream",
          "name": "stdout",
          "text": [
            "2\n",
            "4\n",
            "6\n",
            "8\n",
            "10\n"
          ]
        }
      ]
    },
    {
      "cell_type": "code",
      "source": [
        "for x in range(1,22,2):\n",
        "  print(x)"
      ],
      "metadata": {
        "colab": {
          "base_uri": "https://localhost:8080/"
        },
        "id": "odW0Vj70gBEo",
        "outputId": "262c1510-c636-41e8-aa3e-763f4bf26adb"
      },
      "execution_count": null,
      "outputs": [
        {
          "output_type": "stream",
          "name": "stdout",
          "text": [
            "1\n",
            "3\n",
            "5\n",
            "7\n",
            "9\n",
            "11\n",
            "13\n",
            "15\n",
            "17\n",
            "19\n",
            "21\n"
          ]
        }
      ]
    },
    {
      "cell_type": "code",
      "source": [
        "for w in range(3,31,3):\n",
        "   print(w)"
      ],
      "metadata": {
        "colab": {
          "base_uri": "https://localhost:8080/"
        },
        "id": "AxPHEZ9TgMq4",
        "outputId": "0b6f4b65-df34-44a0-fbc1-a49b537ff7d6"
      },
      "execution_count": null,
      "outputs": [
        {
          "output_type": "stream",
          "name": "stdout",
          "text": [
            "3\n",
            "6\n",
            "9\n",
            "12\n",
            "15\n",
            "18\n",
            "21\n",
            "24\n",
            "27\n",
            "30\n"
          ]
        }
      ]
    },
    {
      "cell_type": "code",
      "source": [
        "for i in range(1,22):\n",
        "  if i%2==1:\n",
        "    print(i)"
      ],
      "metadata": {
        "colab": {
          "base_uri": "https://localhost:8080/"
        },
        "id": "KgSyw443hrye",
        "outputId": "dbd14d0e-81df-4377-f39d-0888120927de"
      },
      "execution_count": null,
      "outputs": [
        {
          "output_type": "stream",
          "name": "stdout",
          "text": [
            "1\n",
            "3\n",
            "5\n",
            "7\n",
            "9\n",
            "11\n",
            "13\n",
            "15\n",
            "17\n",
            "19\n",
            "21\n"
          ]
        }
      ]
    },
    {
      "cell_type": "code",
      "source": [
        "for i in range(3,22):\n",
        "    print(i)\n",
        "    if i==4:\n",
        "     break"
      ],
      "metadata": {
        "colab": {
          "base_uri": "https://localhost:8080/"
        },
        "id": "2Qxr1GUAiotf",
        "outputId": "650cc1e9-d2d6-48dd-ca28-1cb45c90158e"
      },
      "execution_count": null,
      "outputs": [
        {
          "output_type": "stream",
          "name": "stdout",
          "text": [
            "3\n",
            "4\n"
          ]
        }
      ]
    },
    {
      "cell_type": "code",
      "source": [
        "a=\"mythily\"\n",
        "for i in a:\n",
        "  if i==\"h\":\n",
        "    continue\n",
        "  print(i)"
      ],
      "metadata": {
        "colab": {
          "base_uri": "https://localhost:8080/"
        },
        "id": "NniO1uL9lfgX",
        "outputId": "8c8ba36e-8cb1-4635-e7b3-6d2b56135463"
      },
      "execution_count": null,
      "outputs": [
        {
          "output_type": "stream",
          "name": "stdout",
          "text": [
            "m\n",
            "y\n",
            "t\n",
            "i\n",
            "l\n",
            "y\n"
          ]
        }
      ]
    },
    {
      "cell_type": "code",
      "source": [
        "x=\"***ABC*JR*DW*WE*\"\n",
        "for i in x:\n",
        "  if i==\"*\":\n",
        "    continue\n",
        "  print(i)"
      ],
      "metadata": {
        "colab": {
          "base_uri": "https://localhost:8080/"
        },
        "id": "a7UawHzMnzrm",
        "outputId": "ce206ddd-1604-4e88-aeba-7eca58928523"
      },
      "execution_count": null,
      "outputs": [
        {
          "output_type": "stream",
          "name": "stdout",
          "text": [
            "A\n",
            "B\n",
            "C\n",
            "J\n",
            "R\n",
            "D\n",
            "W\n",
            "W\n",
            "E\n"
          ]
        }
      ]
    },
    {
      "cell_type": "code",
      "source": [
        "binlist=[\"jhdsf\",4664,\"grhfig%324897932487\"]\n",
        "print(binlist)"
      ],
      "metadata": {
        "colab": {
          "base_uri": "https://localhost:8080/"
        },
        "id": "KK2czAXupR6a",
        "outputId": "934e85fe-a953-4d2f-810e-13fb0c6bd0bf"
      },
      "execution_count": null,
      "outputs": [
        {
          "output_type": "stream",
          "name": "stdout",
          "text": [
            "['jhdsf', 4664, 'grhfig%324897932487']\n"
          ]
        }
      ]
    },
    {
      "cell_type": "code",
      "source": [
        "a=[\"mythily\",17,\"biryani\",\"tharamythu07@*\"]\n",
        "a.append(7)\n",
        "a.insert(3,\"ece\")\n",
        "a.pop(5)\n",
        "a.remove(\"ece\")\n",
        "print(a)"
      ],
      "metadata": {
        "colab": {
          "base_uri": "https://localhost:8080/"
        },
        "id": "FfXWuOyOrA3l",
        "outputId": "abc32bfc-1aa1-466f-c98f-635432818b05"
      },
      "execution_count": null,
      "outputs": [
        {
          "output_type": "stream",
          "name": "stdout",
          "text": [
            "['mythily', 17, 'biryani', 'tharamythu07@*']\n"
          ]
        }
      ]
    },
    {
      "cell_type": "code",
      "source": [
        "a=[\"mythily\",17,\"biryani\",\"tharamythu07@*\"]\n",
        "print(a[::-1])"
      ],
      "metadata": {
        "colab": {
          "base_uri": "https://localhost:8080/"
        },
        "id": "auHUdJ9zudFk",
        "outputId": "57ceb4f3-46de-459e-d669-9345872f0929"
      },
      "execution_count": null,
      "outputs": [
        {
          "output_type": "stream",
          "name": "stdout",
          "text": [
            "['tharamythu07@*', 'biryani', 17, 'mythily']\n"
          ]
        }
      ]
    },
    {
      "cell_type": "code",
      "source": [
        "l=[i for i in range(1,20,2)]\n",
        "print(l)"
      ],
      "metadata": {
        "id": "J2oLJ9D3va0D",
        "colab": {
          "base_uri": "https://localhost:8080/"
        },
        "outputId": "554d5e14-4d27-4228-a8ae-5b142cf54b5a"
      },
      "execution_count": null,
      "outputs": [
        {
          "output_type": "stream",
          "name": "stdout",
          "text": [
            "[1, 3, 5, 7, 9, 11, 13, 15, 17, 19]\n"
          ]
        }
      ]
    },
    {
      "cell_type": "code",
      "source": [
        "l=[i for i in range(0,21,2)]\n",
        "print(l)\n",
        "print(l[::-1])"
      ],
      "metadata": {
        "colab": {
          "base_uri": "https://localhost:8080/"
        },
        "id": "FgM_K96S06gJ",
        "outputId": "1a33b1b0-2902-42a7-edcb-5990e8415da0"
      },
      "execution_count": null,
      "outputs": [
        {
          "output_type": "stream",
          "name": "stdout",
          "text": [
            "[0, 2, 4, 6, 8, 10, 12, 14, 16, 18, 20]\n",
            "[20, 18, 16, 14, 12, 10, 8, 6, 4, 2, 0]\n"
          ]
        }
      ]
    },
    {
      "cell_type": "code",
      "source": [
        "t=(\"haiiiiiiiiiiiiiiiiiiiiiiiiiii\",)\n",
        "print(type(t))"
      ],
      "metadata": {
        "colab": {
          "base_uri": "https://localhost:8080/"
        },
        "id": "WFNU9H4S10_7",
        "outputId": "df51e47f-0c4b-48bd-e66c-81e3e56b2ac2"
      },
      "execution_count": null,
      "outputs": [
        {
          "output_type": "stream",
          "name": "stdout",
          "text": [
            "<class 'tuple'>\n"
          ]
        }
      ]
    },
    {
      "cell_type": "code",
      "source": [
        "t=(3,5,7)\n",
        "r=(\"chicken\",\"biryani\",\"icecream\")\n",
        "m=t+r\n",
        "print(m)\n",
        "s=t*7\n",
        "print(s)\n",
        "d=r*5\n",
        "print(d)\n",
        "\n"
      ],
      "metadata": {
        "colab": {
          "base_uri": "https://localhost:8080/"
        },
        "id": "AUskt_Cv5dsa",
        "outputId": "84018942-4d6e-4cb3-a7b5-5fdb78d0d7d7"
      },
      "execution_count": null,
      "outputs": [
        {
          "output_type": "stream",
          "name": "stdout",
          "text": [
            "(3, 5, 7, 'chicken', 'biryani', 'icecream')\n",
            "(3, 5, 7, 3, 5, 7, 3, 5, 7, 3, 5, 7, 3, 5, 7, 3, 5, 7, 3, 5, 7)\n",
            "('chicken', 'biryani', 'icecream', 'chicken', 'biryani', 'icecream', 'chicken', 'biryani', 'icecream', 'chicken', 'biryani', 'icecream', 'chicken', 'biryani', 'icecream')\n"
          ]
        }
      ]
    },
    {
      "cell_type": "code",
      "source": [
        "t=(3,\"biryani\",55893)\n",
        "t1=list(t)\n",
        "print(t1)\n",
        "t1.pop(1)\n",
        "t1.append(\"hello\")\n",
        "t=tuple(t1)\n",
        "print(t)"
      ],
      "metadata": {
        "colab": {
          "base_uri": "https://localhost:8080/"
        },
        "id": "3FLFDVKx6Zwb",
        "outputId": "d032e9ca-b830-4bdf-c87f-87f1be7d27ad"
      },
      "execution_count": null,
      "outputs": [
        {
          "output_type": "stream",
          "name": "stdout",
          "text": [
            "[3, 'biryani', 55893]\n",
            "(3, 55893, 'hello')\n"
          ]
        }
      ]
    },
    {
      "cell_type": "code",
      "source": [
        "s={'heyyyy','evngg'}\n",
        "print(s)"
      ],
      "metadata": {
        "id": "uYwFGZQM_HoN",
        "colab": {
          "base_uri": "https://localhost:8080/"
        },
        "outputId": "730621e4-0049-40e8-c52e-661a12924fd9"
      },
      "execution_count": null,
      "outputs": [
        {
          "output_type": "stream",
          "name": "stdout",
          "text": [
            "{'evngg', 'heyyyy'}\n"
          ]
        }
      ]
    },
    {
      "cell_type": "code",
      "source": [
        "s={1,34,34,1,5,6,7}\n",
        "print(len(s))"
      ],
      "metadata": {
        "colab": {
          "base_uri": "https://localhost:8080/"
        },
        "id": "4QhElOzPGblO",
        "outputId": "8e5a34a4-d76d-4c5c-834c-47e634f88207"
      },
      "execution_count": null,
      "outputs": [
        {
          "output_type": "stream",
          "name": "stdout",
          "text": [
            "5\n"
          ]
        }
      ]
    },
    {
      "cell_type": "code",
      "source": [
        "s.add(\"orange\")\n",
        "print(s)"
      ],
      "metadata": {
        "colab": {
          "base_uri": "https://localhost:8080/"
        },
        "id": "L3TqFxevGpyV",
        "outputId": "c4b5b2b7-f11a-4f75-b168-362d2b0bb1b5"
      },
      "execution_count": null,
      "outputs": [
        {
          "output_type": "stream",
          "name": "stdout",
          "text": [
            "{1, 34, 'orange', 5, 6, 7}\n"
          ]
        }
      ]
    },
    {
      "cell_type": "code",
      "source": [
        "m={3,5,7,'sleep','songs'}\n",
        "t={9,'food','series'}\n",
        "m.update(t)\n",
        "print(m)"
      ],
      "metadata": {
        "colab": {
          "base_uri": "https://localhost:8080/"
        },
        "id": "KMBdC8paHskW",
        "outputId": "26ce1bd0-3f36-45c4-9364-75e8a1b9ac7f"
      },
      "execution_count": null,
      "outputs": [
        {
          "output_type": "stream",
          "name": "stdout",
          "text": [
            "{3, 5, 7, 9, 'songs', 'food', 'series', 'sleep'}\n"
          ]
        }
      ]
    },
    {
      "cell_type": "code",
      "source": [
        "s={'studies','classes'}\n",
        "s.remove('studies')\n",
        "print(s)"
      ],
      "metadata": {
        "colab": {
          "base_uri": "https://localhost:8080/"
        },
        "id": "4jB--8UKIRQd",
        "outputId": "e51f4658-b75f-4fd7-d5e2-7e9533932916"
      },
      "execution_count": null,
      "outputs": [
        {
          "output_type": "stream",
          "name": "stdout",
          "text": [
            "{'classes'}\n"
          ]
        }
      ]
    },
    {
      "cell_type": "code",
      "source": [
        "x=[i for i in range(0,21,2)]\n",
        "print (x)\n"
      ],
      "metadata": {
        "colab": {
          "base_uri": "https://localhost:8080/"
        },
        "id": "hDyj2eEyIoWc",
        "outputId": "5b7fe752-555e-4c76-f9a9-59849a7ee2c0"
      },
      "execution_count": null,
      "outputs": [
        {
          "output_type": "stream",
          "name": "stdout",
          "text": [
            "[0, 2, 4, 6, 8, 10, 12, 14, 16, 18, 20]\n"
          ]
        }
      ]
    },
    {
      "cell_type": "code",
      "source": [
        "integer_list = list(map(int, input().split()))"
      ],
      "metadata": {
        "colab": {
          "base_uri": "https://localhost:8080/"
        },
        "id": "4tXKJ1g1NE8F",
        "outputId": "66fdf645-9ce3-47e4-9d50-a1312a29ad65"
      },
      "execution_count": null,
      "outputs": [
        {
          "name": "stdout",
          "output_type": "stream",
          "text": [
            "32 545 34 435\n"
          ]
        }
      ]
    },
    {
      "cell_type": "code",
      "source": [
        "l= input(\"Enter a list element separated by space \")\n",
        "list  =l.split()\n",
        "\n"
      ],
      "metadata": {
        "id": "o6z_ytCmNbYS",
        "colab": {
          "base_uri": "https://localhost:8080/"
        },
        "outputId": "52924a85-4c95-40ec-f655-d2cdfd6bfd82"
      },
      "execution_count": null,
      "outputs": [
        {
          "name": "stdout",
          "output_type": "stream",
          "text": [
            "Enter a list element separated by space 35 79 hello evngg\n"
          ]
        }
      ]
    },
    {
      "cell_type": "code",
      "source": [
        "l = []\n",
        "n = int(input(\"Enter number of elements : \"))\n",
        "for i in range(0, n):\n",
        "            ele = int(input())\n",
        "            l.append(ele)\n",
        "print(l)"
      ],
      "metadata": {
        "colab": {
          "base_uri": "https://localhost:8080/"
        },
        "id": "amWPsagkPYmB",
        "outputId": "148a0f59-4f75-49b1-923b-50ebcae4abc8"
      },
      "execution_count": null,
      "outputs": [
        {
          "output_type": "stream",
          "name": "stdout",
          "text": [
            "Enter number of elements : 4\n",
            "3456\n",
            "1276\n",
            "654\n",
            "690\n",
            "[3456, 1276, 654, 690]\n"
          ]
        }
      ]
    },
    {
      "cell_type": "code",
      "source": [
        "s={10,21,30,40}\n",
        "l=[i for i in range(0,50,5)]\n",
        "print(l)\n",
        "l=set(l)\n",
        "s.update(l)\n",
        "print(s)"
      ],
      "metadata": {
        "colab": {
          "base_uri": "https://localhost:8080/"
        },
        "id": "P9f69ZJWQVgw",
        "outputId": "5050eb05-9f0c-4a8f-b1f2-ad95bdea30a5"
      },
      "execution_count": null,
      "outputs": [
        {
          "output_type": "stream",
          "name": "stdout",
          "text": [
            "[0, 5, 10, 15, 20, 25, 30, 35, 40, 45]\n",
            "{0, 35, 5, 40, 10, 45, 15, 20, 21, 25, 30}\n"
          ]
        }
      ]
    },
    {
      "cell_type": "code",
      "source": [
        "d={\"colour\":\"blue\",\"hey\":\"black\",\"helo\":\"red\"}\n",
        "print(d[\"colour\"])"
      ],
      "metadata": {
        "colab": {
          "base_uri": "https://localhost:8080/"
        },
        "id": "cL6lRz48RpYg",
        "outputId": "3f3a18b8-70e9-42a5-d993-03fff7911b08"
      },
      "execution_count": null,
      "outputs": [
        {
          "output_type": "stream",
          "name": "stdout",
          "text": [
            "blue\n"
          ]
        }
      ]
    },
    {
      "cell_type": "code",
      "source": [
        "f={'hey':'gud morning','what':'gud night',4:'gud evng'}\n",
        "print(f['hey'])\n",
        "print(f.items())\n",
        "print(f.values())"
      ],
      "metadata": {
        "colab": {
          "base_uri": "https://localhost:8080/"
        },
        "id": "GoaPSkIjVjVP",
        "outputId": "476a60e8-1c8b-4931-912b-5085c10d2a8b"
      },
      "execution_count": null,
      "outputs": [
        {
          "output_type": "stream",
          "name": "stdout",
          "text": [
            "gud morning\n",
            "dict_items([('hey', 'gud morning'), ('what', 'gud night'), (4, 'gud evng')])\n",
            "dict_values(['gud morning', 'gud night', 'gud evng'])\n"
          ]
        }
      ]
    },
    {
      "cell_type": "code",
      "source": [
        "f={'hey':'gud morning','what':'gud night',4:'gud evng'}\n",
        "print(f['hey'])"
      ],
      "metadata": {
        "id": "8UblsuPAWr09",
        "colab": {
          "base_uri": "https://localhost:8080/"
        },
        "outputId": "cc5645ea-df27-48cb-be34-12f72415aac8"
      },
      "execution_count": null,
      "outputs": [
        {
          "output_type": "stream",
          "name": "stdout",
          "text": [
            "gud morning\n"
          ]
        }
      ]
    },
    {
      "cell_type": "code",
      "source": [
        "home=int(input(\"enter no  of days to go home:\"))\n",
        "if home<=3:\n",
        "  print('yayyyy')\n",
        "else:\n",
        "  print('nahhhh')\n",
        ""
      ],
      "metadata": {
        "colab": {
          "base_uri": "https://localhost:8080/"
        },
        "id": "rIrxLbYskPGV",
        "outputId": "c7f06d28-1335-4a24-9cc0-76702e974672"
      },
      "execution_count": null,
      "outputs": [
        {
          "output_type": "stream",
          "name": "stdout",
          "text": [
            "enter no  of days to go home:8\n",
            "nahhhh\n"
          ]
        }
      ]
    },
    {
      "cell_type": "code",
      "source": [
        "d={1:'ooty',2:'coimbatore',3:'hostel'}\n",
        "print(d[1])\n",
        "print(d.items())\n",
        "print(d.values())\n",
        "y=d.get(1)\n",
        "print(y)\n",
        "y=d[4]='sleep'\n",
        "print(y)\n",
        "y=d[5]='class'\n",
        "print(y)\n",
        "print(list(d))\n",
        "print(tuple(d))"
      ],
      "metadata": {
        "colab": {
          "base_uri": "https://localhost:8080/"
        },
        "id": "u8-fOyy7i_Ce",
        "outputId": "45d7afc4-3ddc-4fba-9cf4-abab1ec2b098"
      },
      "execution_count": null,
      "outputs": [
        {
          "output_type": "stream",
          "name": "stdout",
          "text": [
            "ooty\n",
            "dict_items([(1, 'ooty'), (2, 'coimbatore'), (3, 'hostel')])\n",
            "dict_values(['ooty', 'coimbatore', 'hostel'])\n",
            "ooty\n",
            "sleep\n",
            "class\n",
            "[1, 2, 3, 4, 5]\n",
            "(1, 2, 3, 4, 5)\n"
          ]
        }
      ]
    },
    {
      "cell_type": "code",
      "source": [
        "def num(a,b,c,d,e):\n",
        "   print(a+b+c+d+e)\n",
        "num(1,2,3,4,5)"
      ],
      "metadata": {
        "id": "7Te98gQepMWj",
        "colab": {
          "base_uri": "https://localhost:8080/"
        },
        "outputId": "654e9933-161b-4723-9024-120a40aa5804"
      },
      "execution_count": null,
      "outputs": [
        {
          "output_type": "stream",
          "name": "stdout",
          "text": [
            "15\n"
          ]
        }
      ]
    },
    {
      "cell_type": "code",
      "source": [
        "def hloo(**name):\n",
        "  print(\"My last name is:\",name[\"lname\"])\n",
        "hloo(fname=\"Mythily\",lname=\"Manoharan\")"
      ],
      "metadata": {
        "colab": {
          "base_uri": "https://localhost:8080/"
        },
        "id": "RGNicFyasL3l",
        "outputId": "37668588-f453-4d61-942c-8204afcfea6a"
      },
      "execution_count": null,
      "outputs": [
        {
          "output_type": "stream",
          "name": "stdout",
          "text": [
            "My last name is: Manoharan\n"
          ]
        }
      ]
    },
    {
      "cell_type": "code",
      "source": [
        "def prime(x):\n",
        " for i in range(2,x):\n",
        "   if x%i==0:\n",
        "     return 0\n",
        "   return 1\n",
        "v=int(input(\"Enter a number:\"))\n",
        "s=prime(v)\n",
        "if s==1:\n",
        "  print(\"Prime\")\n",
        "else:\n",
        "  print(\"Not Prime\")\n"
      ],
      "metadata": {
        "colab": {
          "base_uri": "https://localhost:8080/"
        },
        "id": "ZzqulpqSyn1O",
        "outputId": "5b87cbc5-0956-42fc-caa5-f0d17ad4f57a"
      },
      "execution_count": null,
      "outputs": [
        {
          "output_type": "stream",
          "name": "stdout",
          "text": [
            "Enter a number:7\n",
            "Prime\n"
          ]
        }
      ]
    },
    {
      "cell_type": "code",
      "source": [
        "def recur(k):\n",
        "  if(k>0):\n",
        "    result=k+recur(k-1)\n",
        "    return result\n",
        "  else:\n",
        "      result=0\n",
        "  return result\n",
        "n=int(input(\"enter a number:\"))\n",
        "print(\"\\nSum of natural nos until n:\")\n",
        "res=recur(n)\n",
        "print(res)"
      ],
      "metadata": {
        "id": "b4AXWCct2jHW",
        "colab": {
          "base_uri": "https://localhost:8080/"
        },
        "outputId": "657f7652-300f-42d8-fae9-4d141a5a2792"
      },
      "execution_count": null,
      "outputs": [
        {
          "output_type": "stream",
          "name": "stdout",
          "text": [
            "enter a number:6\n",
            "\n",
            "Sum of natural nos until n:\n",
            "21\n"
          ]
        }
      ]
    },
    {
      "cell_type": "code",
      "source": [],
      "metadata": {
        "id": "zdtJ8LLsmcoY"
      },
      "execution_count": null,
      "outputs": []
    }
  ]
}